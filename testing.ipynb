{
 "metadata": {
  "language_info": {
   "codemirror_mode": {
    "name": "ipython",
    "version": 3
   },
   "file_extension": ".py",
   "mimetype": "text/x-python",
   "name": "python",
   "nbconvert_exporter": "python",
   "pygments_lexer": "ipython3",
   "version": "3.8.5"
  },
  "orig_nbformat": 2,
  "kernelspec": {
   "name": "python385jvsc74a57bd05db71e8e81e7505a0ce42ca5b6edb87f7186111f89c10804bbb686d8e04a2f20",
   "display_name": "Python 3.8.5 64-bit ('IGV': conda)"
  }
 },
 "nbformat": 4,
 "nbformat_minor": 2,
 "cells": [
  {
   "cell_type": "code",
   "execution_count": 6,
   "metadata": {},
   "outputs": [
    {
     "output_type": "stream",
     "name": "stdout",
     "text": [
      "Collecting openpyxl\n  Using cached openpyxl-3.0.7-py2.py3-none-any.whl (243 kB)\nCollecting et-xmlfile\n  Using cached et_xmlfile-1.0.1-py3-none-any.whl\nInstalling collected packages: et-xmlfile, openpyxl\nSuccessfully installed et-xmlfile-1.0.1 openpyxl-3.0.7\n"
     ]
    }
   ],
   "source": [
    "!pip install openpyxl"
   ]
  },
  {
   "cell_type": "code",
   "execution_count": 1,
   "metadata": {},
   "outputs": [],
   "source": [
    "import pandas as pd"
   ]
  },
  {
   "cell_type": "code",
   "execution_count": 25,
   "metadata": {},
   "outputs": [
    {
     "output_type": "execute_result",
     "data": {
      "text/plain": [
       "        Outlet Name Outlet GSTIN Code    Invoice No Invoice Date  \\\n",
       "0  DEEP FOOD CORNER   21AVIPD7702M1ZP  580118000667   2018-10-04   \n",
       "1  DEEP FOOD CORNER   21AVIPD7702M1ZP  580118000667   2018-10-04   \n",
       "2  DEEP FOOD CORNER   21AVIPD7702M1ZP  580118000667   2018-10-04   \n",
       "3  DEEP FOOD CORNER   21AVIPD7702M1ZP  580118000667   2018-10-04   \n",
       "4  DEEP FOOD CORNER   21AVIPD7702M1ZP  580118000667   2018-10-04   \n",
       "\n",
       "   Taxable Line Amt  SGST_Tax_Rate  SGST_Tax_Value  CGST_Tax_Rate  \\\n",
       "0             97.40             14           13.64             14   \n",
       "1            182.86             14           25.60             14   \n",
       "2            903.96              9           81.36              9   \n",
       "3            548.58             14           76.80             14   \n",
       "4             22.86             14            3.20             14   \n",
       "\n",
       "   CGST_Tax_Value  Cess_Tax_Rate  Cess_Tax_Value  Total Tax Amount  Net Amount  \n",
       "0           13.64             12           11.69             38.97      136.37  \n",
       "1           25.60             12           21.94             73.14      256.00  \n",
       "2           81.36              0            0.00            162.72     1066.68  \n",
       "3           76.80             12           65.83            219.43      768.01  \n",
       "4            3.20             12            2.74              9.14       32.00  "
      ],
      "text/html": "<div>\n<style scoped>\n    .dataframe tbody tr th:only-of-type {\n        vertical-align: middle;\n    }\n\n    .dataframe tbody tr th {\n        vertical-align: top;\n    }\n\n    .dataframe thead th {\n        text-align: right;\n    }\n</style>\n<table border=\"1\" class=\"dataframe\">\n  <thead>\n    <tr style=\"text-align: right;\">\n      <th></th>\n      <th>Outlet Name</th>\n      <th>Outlet GSTIN Code</th>\n      <th>Invoice No</th>\n      <th>Invoice Date</th>\n      <th>Taxable Line Amt</th>\n      <th>SGST_Tax_Rate</th>\n      <th>SGST_Tax_Value</th>\n      <th>CGST_Tax_Rate</th>\n      <th>CGST_Tax_Value</th>\n      <th>Cess_Tax_Rate</th>\n      <th>Cess_Tax_Value</th>\n      <th>Total Tax Amount</th>\n      <th>Net Amount</th>\n    </tr>\n  </thead>\n  <tbody>\n    <tr>\n      <th>0</th>\n      <td>DEEP FOOD CORNER</td>\n      <td>21AVIPD7702M1ZP</td>\n      <td>580118000667</td>\n      <td>2018-10-04</td>\n      <td>97.40</td>\n      <td>14</td>\n      <td>13.64</td>\n      <td>14</td>\n      <td>13.64</td>\n      <td>12</td>\n      <td>11.69</td>\n      <td>38.97</td>\n      <td>136.37</td>\n    </tr>\n    <tr>\n      <th>1</th>\n      <td>DEEP FOOD CORNER</td>\n      <td>21AVIPD7702M1ZP</td>\n      <td>580118000667</td>\n      <td>2018-10-04</td>\n      <td>182.86</td>\n      <td>14</td>\n      <td>25.60</td>\n      <td>14</td>\n      <td>25.60</td>\n      <td>12</td>\n      <td>21.94</td>\n      <td>73.14</td>\n      <td>256.00</td>\n    </tr>\n    <tr>\n      <th>2</th>\n      <td>DEEP FOOD CORNER</td>\n      <td>21AVIPD7702M1ZP</td>\n      <td>580118000667</td>\n      <td>2018-10-04</td>\n      <td>903.96</td>\n      <td>9</td>\n      <td>81.36</td>\n      <td>9</td>\n      <td>81.36</td>\n      <td>0</td>\n      <td>0.00</td>\n      <td>162.72</td>\n      <td>1066.68</td>\n    </tr>\n    <tr>\n      <th>3</th>\n      <td>DEEP FOOD CORNER</td>\n      <td>21AVIPD7702M1ZP</td>\n      <td>580118000667</td>\n      <td>2018-10-04</td>\n      <td>548.58</td>\n      <td>14</td>\n      <td>76.80</td>\n      <td>14</td>\n      <td>76.80</td>\n      <td>12</td>\n      <td>65.83</td>\n      <td>219.43</td>\n      <td>768.01</td>\n    </tr>\n    <tr>\n      <th>4</th>\n      <td>DEEP FOOD CORNER</td>\n      <td>21AVIPD7702M1ZP</td>\n      <td>580118000667</td>\n      <td>2018-10-04</td>\n      <td>22.86</td>\n      <td>14</td>\n      <td>3.20</td>\n      <td>14</td>\n      <td>3.20</td>\n      <td>12</td>\n      <td>2.74</td>\n      <td>9.14</td>\n      <td>32.00</td>\n    </tr>\n  </tbody>\n</table>\n</div>"
     },
     "metadata": {},
     "execution_count": 25
    }
   ],
   "source": [
    "df = pd.read_excel('SALE B2B OCTOBER 2018 - Copy.xlsx')\n",
    "df.head()"
   ]
  },
  {
   "cell_type": "code",
   "execution_count": 26,
   "metadata": {},
   "outputs": [
    {
     "output_type": "execute_result",
     "data": {
      "text/plain": [
       "Outlet Name                  object\n",
       "Outlet GSTIN Code            object\n",
       "Invoice No                    int64\n",
       "Invoice Date         datetime64[ns]\n",
       "Taxable Line Amt            float64\n",
       "SGST_Tax_Rate                 int64\n",
       "SGST_Tax_Value              float64\n",
       "CGST_Tax_Rate                 int64\n",
       "CGST_Tax_Value              float64\n",
       "Cess_Tax_Rate                 int64\n",
       "Cess_Tax_Value              float64\n",
       "Total Tax Amount            float64\n",
       "Net Amount                  float64\n",
       "dtype: object"
      ]
     },
     "metadata": {},
     "execution_count": 26
    }
   ],
   "source": [
    "df.dtypes"
   ]
  },
  {
   "cell_type": "code",
   "execution_count": 27,
   "metadata": {},
   "outputs": [
    {
     "output_type": "execute_result",
     "data": {
      "text/plain": [
       "   index       Outlet Name Outlet GSTIN Code    Invoice No Invoice Date  \\\n",
       "0      0  DEEP FOOD CORNER   21AVIPD7702M1ZP  580118000667   2018-10-04   \n",
       "1      1  DEEP FOOD CORNER   21AVIPD7702M1ZP  580118000667   2018-10-04   \n",
       "2      2  DEEP FOOD CORNER   21AVIPD7702M1ZP  580118000667   2018-10-04   \n",
       "3      3  DEEP FOOD CORNER   21AVIPD7702M1ZP  580118000667   2018-10-04   \n",
       "4      4  DEEP FOOD CORNER   21AVIPD7702M1ZP  580118000667   2018-10-04   \n",
       "\n",
       "   Taxable Line Amt  SGST_Tax_Rate  SGST_Tax_Value  CGST_Tax_Rate  \\\n",
       "0             97.40             14           13.64             14   \n",
       "1            182.86             14           25.60             14   \n",
       "2            903.96              9           81.36              9   \n",
       "3            548.58             14           76.80             14   \n",
       "4             22.86             14            3.20             14   \n",
       "\n",
       "   CGST_Tax_Value  Cess_Tax_Rate  Cess_Tax_Value  Total Tax Amount  Net Amount  \n",
       "0           13.64             12           11.69             38.97      136.37  \n",
       "1           25.60             12           21.94             73.14      256.00  \n",
       "2           81.36              0            0.00            162.72     1066.68  \n",
       "3           76.80             12           65.83            219.43      768.01  \n",
       "4            3.20             12            2.74              9.14       32.00  "
      ],
      "text/html": "<div>\n<style scoped>\n    .dataframe tbody tr th:only-of-type {\n        vertical-align: middle;\n    }\n\n    .dataframe tbody tr th {\n        vertical-align: top;\n    }\n\n    .dataframe thead th {\n        text-align: right;\n    }\n</style>\n<table border=\"1\" class=\"dataframe\">\n  <thead>\n    <tr style=\"text-align: right;\">\n      <th></th>\n      <th>index</th>\n      <th>Outlet Name</th>\n      <th>Outlet GSTIN Code</th>\n      <th>Invoice No</th>\n      <th>Invoice Date</th>\n      <th>Taxable Line Amt</th>\n      <th>SGST_Tax_Rate</th>\n      <th>SGST_Tax_Value</th>\n      <th>CGST_Tax_Rate</th>\n      <th>CGST_Tax_Value</th>\n      <th>Cess_Tax_Rate</th>\n      <th>Cess_Tax_Value</th>\n      <th>Total Tax Amount</th>\n      <th>Net Amount</th>\n    </tr>\n  </thead>\n  <tbody>\n    <tr>\n      <th>0</th>\n      <td>0</td>\n      <td>DEEP FOOD CORNER</td>\n      <td>21AVIPD7702M1ZP</td>\n      <td>580118000667</td>\n      <td>2018-10-04</td>\n      <td>97.40</td>\n      <td>14</td>\n      <td>13.64</td>\n      <td>14</td>\n      <td>13.64</td>\n      <td>12</td>\n      <td>11.69</td>\n      <td>38.97</td>\n      <td>136.37</td>\n    </tr>\n    <tr>\n      <th>1</th>\n      <td>1</td>\n      <td>DEEP FOOD CORNER</td>\n      <td>21AVIPD7702M1ZP</td>\n      <td>580118000667</td>\n      <td>2018-10-04</td>\n      <td>182.86</td>\n      <td>14</td>\n      <td>25.60</td>\n      <td>14</td>\n      <td>25.60</td>\n      <td>12</td>\n      <td>21.94</td>\n      <td>73.14</td>\n      <td>256.00</td>\n    </tr>\n    <tr>\n      <th>2</th>\n      <td>2</td>\n      <td>DEEP FOOD CORNER</td>\n      <td>21AVIPD7702M1ZP</td>\n      <td>580118000667</td>\n      <td>2018-10-04</td>\n      <td>903.96</td>\n      <td>9</td>\n      <td>81.36</td>\n      <td>9</td>\n      <td>81.36</td>\n      <td>0</td>\n      <td>0.00</td>\n      <td>162.72</td>\n      <td>1066.68</td>\n    </tr>\n    <tr>\n      <th>3</th>\n      <td>3</td>\n      <td>DEEP FOOD CORNER</td>\n      <td>21AVIPD7702M1ZP</td>\n      <td>580118000667</td>\n      <td>2018-10-04</td>\n      <td>548.58</td>\n      <td>14</td>\n      <td>76.80</td>\n      <td>14</td>\n      <td>76.80</td>\n      <td>12</td>\n      <td>65.83</td>\n      <td>219.43</td>\n      <td>768.01</td>\n    </tr>\n    <tr>\n      <th>4</th>\n      <td>4</td>\n      <td>DEEP FOOD CORNER</td>\n      <td>21AVIPD7702M1ZP</td>\n      <td>580118000667</td>\n      <td>2018-10-04</td>\n      <td>22.86</td>\n      <td>14</td>\n      <td>3.20</td>\n      <td>14</td>\n      <td>3.20</td>\n      <td>12</td>\n      <td>2.74</td>\n      <td>9.14</td>\n      <td>32.00</td>\n    </tr>\n  </tbody>\n</table>\n</div>"
     },
     "metadata": {},
     "execution_count": 27
    }
   ],
   "source": [
    "df.dropna(axis=0, inplace=True)\n",
    "df.reset_index(inplace=True)\n",
    "df.head()"
   ]
  },
  {
   "cell_type": "code",
   "execution_count": 28,
   "metadata": {},
   "outputs": [
    {
     "output_type": "execute_result",
     "data": {
      "text/plain": [
       "7"
      ]
     },
     "metadata": {},
     "execution_count": 28
    }
   ],
   "source": [
    "len(df['Outlet Name'].unique())"
   ]
  },
  {
   "cell_type": "code",
   "execution_count": 29,
   "metadata": {},
   "outputs": [
    {
     "output_type": "execute_result",
     "data": {
      "text/plain": [
       "['DEEP FOOD CORNER',\n",
       " 'UNION CLUB',\n",
       " 'ORISSA CRICKET ASSOCIATION CLUB',\n",
       " 'CUTTACK CLUB--',\n",
       " 'ROYAL TRADERS',\n",
       " 'SHREE SAI VANDAR',\n",
       " 'SWEETY']"
      ]
     },
     "metadata": {},
     "execution_count": 29
    }
   ],
   "source": [
    "outlet_names = list(df['Outlet Name'].unique())\n",
    "outlet_names"
   ]
  },
  {
   "cell_type": "code",
   "execution_count": 30,
   "metadata": {},
   "outputs": [
    {
     "output_type": "execute_result",
     "data": {
      "text/plain": [
       "Empty DataFrame\n",
       "Columns: [Outlet Name, Outlet GSTIN Code, Invoice No, Invoice Date, Taxable Line Amt, SGST_Tax_Rate, SGST_Tax_Value, CGST_Tax_Rate, CGST_Tax_Value, Cess_Tax_Rate, Total Tax Amount, Net Amount]\n",
       "Index: []"
      ],
      "text/html": "<div>\n<style scoped>\n    .dataframe tbody tr th:only-of-type {\n        vertical-align: middle;\n    }\n\n    .dataframe tbody tr th {\n        vertical-align: top;\n    }\n\n    .dataframe thead th {\n        text-align: right;\n    }\n</style>\n<table border=\"1\" class=\"dataframe\">\n  <thead>\n    <tr style=\"text-align: right;\">\n      <th></th>\n      <th>Outlet Name</th>\n      <th>Outlet GSTIN Code</th>\n      <th>Invoice No</th>\n      <th>Invoice Date</th>\n      <th>Taxable Line Amt</th>\n      <th>SGST_Tax_Rate</th>\n      <th>SGST_Tax_Value</th>\n      <th>CGST_Tax_Rate</th>\n      <th>CGST_Tax_Value</th>\n      <th>Cess_Tax_Rate</th>\n      <th>Total Tax Amount</th>\n      <th>Net Amount</th>\n    </tr>\n  </thead>\n  <tbody>\n  </tbody>\n</table>\n</div>"
     },
     "metadata": {},
     "execution_count": 30
    }
   ],
   "source": [
    "final = pd.DataFrame(columns=['Outlet Name', 'Outlet GSTIN Code', 'Invoice No', 'Invoice Date', 'Taxable Line Amt', 'SGST_Tax_Rate', 'SGST_Tax_Value', 'CGST_Tax_Rate', 'CGST_Tax_Value', 'Cess_Tax_Rate', 'Total Tax Amount', 'Net Amount'])\n",
    "final"
   ]
  },
  {
   "cell_type": "code",
   "execution_count": 31,
   "metadata": {},
   "outputs": [],
   "source": [
    "for i in range(len(outlet_names)):\n",
    "    invoice_nos = list(df[df['Outlet Name']==outlet_names[i]]['Invoice No'].unique())\n",
    "    outlet_data = df[df['Outlet Name']==outlet_names[i]]\n",
    "    for j in range(len(invoice_nos)):\n",
    "        inv_data = outlet_data[outlet_data['Invoice No']==invoice_nos[j]]\n",
    "        sgst_rates = list(inv_data['SGST_Tax_Rate'].unique())\n",
    "        for k in range(len(sgst_rates)):\n",
    "            sgst_data = inv_data[inv_data['SGST_Tax_Rate']==sgst_rates[k]]\n",
    "            d = {\n",
    "                'Outlet Name':outlet_names[i],\n",
    "                'Outlet GSTIN Code': sgst_data['Outlet GSTIN Code'].unique()[0],\n",
    "                'Invoice No':sgst_data['Invoice No'].unique()[0],\n",
    "                'Invoice Date':sgst_data['Invoice Date'].unique()[0],\n",
    "                'Taxable Line Amt':sgst_data['Taxable Line Amt'].sum(),\n",
    "                'SGST_Tax_Rate':sgst_data['SGST_Tax_Rate'].unique()[0],\n",
    "                'SGST_Tax_Value':sgst_data['SGST_Tax_Value'].sum(),\n",
    "                'CGST_Tax_Rate':sgst_data['CGST_Tax_Rate'].unique()[0],\n",
    "                'CGST_Tax_Value':sgst_data['CGST_Tax_Value'].sum(),\n",
    "                'Cess_Tax_Rate':sgst_data['Cess_Tax_Rate'].unique()[0],\n",
    "                'Cess_Tax_Value':sgst_data['Cess_Tax_Value'].sum(),\n",
    "                'Total Tax Amount':sgst_data['Total Tax Amount'].sum(),\n",
    "                'Net Amount':sgst_data['Net Amount'].sum()\n",
    "                }\n",
    "            final = final.append(d, ignore_index=True)"
   ]
  },
  {
   "cell_type": "code",
   "execution_count": 32,
   "metadata": {},
   "outputs": [
    {
     "output_type": "execute_result",
     "data": {
      "text/plain": [
       "Outlet Name                  object\n",
       "Outlet GSTIN Code            object\n",
       "Invoice No                   object\n",
       "Invoice Date         datetime64[ns]\n",
       "Taxable Line Amt            float64\n",
       "SGST_Tax_Rate                object\n",
       "SGST_Tax_Value              float64\n",
       "CGST_Tax_Rate                object\n",
       "CGST_Tax_Value              float64\n",
       "Cess_Tax_Rate                object\n",
       "Total Tax Amount            float64\n",
       "Net Amount                  float64\n",
       "Cess_Tax_Value              float64\n",
       "dtype: object"
      ]
     },
     "metadata": {},
     "execution_count": 32
    }
   ],
   "source": [
    "final.dtypes"
   ]
  },
  {
   "cell_type": "code",
   "execution_count": 34,
   "metadata": {},
   "outputs": [],
   "source": [
    "final.to_csv('out.csv')"
   ]
  }
 ]
}