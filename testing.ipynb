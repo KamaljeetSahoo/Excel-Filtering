{
 "metadata": {
  "language_info": {
   "codemirror_mode": {
    "name": "ipython",
    "version": 3
   },
   "file_extension": ".py",
   "mimetype": "text/x-python",
   "name": "python",
   "nbconvert_exporter": "python",
   "pygments_lexer": "ipython3",
   "version": "3.8.5"
  },
  "orig_nbformat": 2,
  "kernelspec": {
   "name": "python385jvsc74a57bd05db71e8e81e7505a0ce42ca5b6edb87f7186111f89c10804bbb686d8e04a2f20",
   "display_name": "Python 3.8.5 64-bit ('IGV': conda)"
  }
 },
 "nbformat": 4,
 "nbformat_minor": 2,
 "cells": [
  {
   "cell_type": "code",
   "execution_count": 6,
   "metadata": {},
   "outputs": [
    {
     "output_type": "stream",
     "name": "stdout",
     "text": [
      "Collecting openpyxl\n  Using cached openpyxl-3.0.7-py2.py3-none-any.whl (243 kB)\nCollecting et-xmlfile\n  Using cached et_xmlfile-1.0.1-py3-none-any.whl\nInstalling collected packages: et-xmlfile, openpyxl\nSuccessfully installed et-xmlfile-1.0.1 openpyxl-3.0.7\n"
     ]
    }
   ],
   "source": [
    "!pip install openpyxl"
   ]
  },
  {
   "cell_type": "code",
   "execution_count": 1,
   "metadata": {},
   "outputs": [],
   "source": [
    "import pandas as pd"
   ]
  },
  {
   "cell_type": "code",
   "execution_count": 25,
   "metadata": {},
   "outputs": [
    {
     "output_type": "execute_result",
     "data": {
      "text/plain": [
       "        Outlet Name Outlet GSTIN Code    Invoice No Invoice Date  \\\n",
       "0  DEEP FOOD CORNER   21AVIPD7702M1ZP  580118000667   2018-10-04   \n",
       "1  DEEP FOOD CORNER   21AVIPD7702M1ZP  580118000667   2018-10-04   \n",
       "2  DEEP FOOD CORNER   21AVIPD7702M1ZP  580118000667   2018-10-04   \n",
       "3  DEEP FOOD CORNER   21AVIPD7702M1ZP  580118000667   2018-10-04   \n",
       "4  DEEP FOOD CORNER   21AVIPD7702M1ZP  580118000667   2018-10-04   \n",
       "\n",
       "   Taxable Line Amt  SGST_Tax_Rate  SGST_Tax_Value  CGST_Tax_Rate  \\\n",
       "0             97.40             14           13.64             14   \n",
       "1            182.86             14           25.60             14   \n",
       "2            903.96              9           81.36              9   \n",
       "3            548.58             14           76.80             14   \n",
       "4             22.86             14            3.20             14   \n",
       "\n",
       "   CGST_Tax_Value  Cess_Tax_Rate  Cess_Tax_Value  Total Tax Amount  Net Amount  \n",
       "0           13.64             12           11.69             38.97      136.37  \n",
       "1           25.60             12           21.94             73.14      256.00  \n",
       "2           81.36              0            0.00            162.72     1066.68  \n",
       "3           76.80             12           65.83            219.43      768.01  \n",
       "4            3.20             12            2.74              9.14       32.00  "
      ],
      "text/html": "<div>\n<style scoped>\n    .dataframe tbody tr th:only-of-type {\n        vertical-align: middle;\n    }\n\n    .dataframe tbody tr th {\n        vertical-align: top;\n    }\n\n    .dataframe thead th {\n        text-align: right;\n    }\n</style>\n<table border=\"1\" class=\"dataframe\">\n  <thead>\n    <tr style=\"text-align: right;\">\n      <th></th>\n      <th>Outlet Name</th>\n      <th>Outlet GSTIN Code</th>\n      <th>Invoice No</th>\n      <th>Invoice Date</th>\n      <th>Taxable Line Amt</th>\n      <th>SGST_Tax_Rate</th>\n      <th>SGST_Tax_Value</th>\n      <th>CGST_Tax_Rate</th>\n      <th>CGST_Tax_Value</th>\n      <th>Cess_Tax_Rate</th>\n      <th>Cess_Tax_Value</th>\n      <th>Total Tax Amount</th>\n      <th>Net Amount</th>\n    </tr>\n  </thead>\n  <tbody>\n    <tr>\n      <th>0</th>\n      <td>DEEP FOOD CORNER</td>\n      <td>21AVIPD7702M1ZP</td>\n      <td>580118000667</td>\n      <td>2018-10-04</td>\n      <td>97.40</td>\n      <td>14</td>\n      <td>13.64</td>\n      <td>14</td>\n      <td>13.64</td>\n      <td>12</td>\n      <td>11.69</td>\n      <td>38.97</td>\n      <td>136.37</td>\n    </tr>\n    <tr>\n      <th>1</th>\n      <td>DEEP FOOD CORNER</td>\n      <td>21AVIPD7702M1ZP</td>\n      <td>580118000667</td>\n      <td>2018-10-04</td>\n      <td>182.86</td>\n      <td>14</td>\n      <td>25.60</td>\n      <td>14</td>\n      <td>25.60</td>\n      <td>12</td>\n      <td>21.94</td>\n      <td>73.14</td>\n      <td>256.00</td>\n    </tr>\n    <tr>\n      <th>2</th>\n      <td>DEEP FOOD CORNER</td>\n      <td>21AVIPD7702M1ZP</td>\n      <td>580118000667</td>\n      <td>2018-10-04</td>\n      <td>903.96</td>\n      <td>9</td>\n      <td>81.36</td>\n      <td>9</td>\n      <td>81.36</td>\n      <td>0</td>\n      <td>0.00</td>\n      <td>162.72</td>\n      <td>1066.68</td>\n    </tr>\n    <tr>\n      <th>3</th>\n      <td>DEEP FOOD CORNER</td>\n      <td>21AVIPD7702M1ZP</td>\n      <td>580118000667</td>\n      <td>2018-10-04</td>\n      <td>548.58</td>\n      <td>14</td>\n      <td>76.80</td>\n      <td>14</td>\n      <td>76.80</td>\n      <td>12</td>\n      <td>65.83</td>\n      <td>219.43</td>\n      <td>768.01</td>\n    </tr>\n    <tr>\n      <th>4</th>\n      <td>DEEP FOOD CORNER</td>\n      <td>21AVIPD7702M1ZP</td>\n      <td>580118000667</td>\n      <td>2018-10-04</td>\n      <td>22.86</td>\n      <td>14</td>\n      <td>3.20</td>\n      <td>14</td>\n      <td>3.20</td>\n      <td>12</td>\n      <td>2.74</td>\n      <td>9.14</td>\n      <td>32.00</td>\n    </tr>\n  </tbody>\n</table>\n</div>"
     },
     "metadata": {},
     "execution_count": 25
    }
   ],
   "source": [
    "df = pd.read_excel('SALE B2B OCTOBER 2018 - Copy.xlsx')\n",
    "df.head()"
   ]
  },
  {
   "cell_type": "code",
   "execution_count": 26,
   "metadata": {},
   "outputs": [
    {
     "output_type": "execute_result",
     "data": {
      "text/plain": [
       "Outlet Name                  object\n",
       "Outlet GSTIN Code            object\n",
       "Invoice No                    int64\n",
       "Invoice Date         datetime64[ns]\n",
       "Taxable Line Amt            float64\n",
       "SGST_Tax_Rate                 int64\n",
       "SGST_Tax_Value              float64\n",
       "CGST_Tax_Rate                 int64\n",
       "CGST_Tax_Value              float64\n",
       "Cess_Tax_Rate                 int64\n",
       "Cess_Tax_Value              float64\n",
       "Total Tax Amount            float64\n",
       "Net Amount                  float64\n",
       "dtype: object"
      ]
     },
     "metadata": {},
     "execution_count": 26
    }
   ],
   "source": [
    "df.dtypes"
   ]
  },
  {
   "cell_type": "code",
   "execution_count": 27,
   "metadata": {},
   "outputs": [
    {
     "output_type": "execute_result",
     "data": {
      "text/plain": [
       "   index       Outlet Name Outlet GSTIN Code    Invoice No Invoice Date  \\\n",
       "0      0  DEEP FOOD CORNER   21AVIPD7702M1ZP  580118000667   2018-10-04   \n",
       "1      1  DEEP FOOD CORNER   21AVIPD7702M1ZP  580118000667   2018-10-04   \n",
       "2      2  DEEP FOOD CORNER   21AVIPD7702M1ZP  580118000667   2018-10-04   \n",
       "3      3  DEEP FOOD CORNER   21AVIPD7702M1ZP  580118000667   2018-10-04   \n",
       "4      4  DEEP FOOD CORNER   21AVIPD7702M1ZP  580118000667   2018-10-04   \n",
       "\n",
       "   Taxable Line Amt  SGST_Tax_Rate  SGST_Tax_Value  CGST_Tax_Rate  \\\n",
       "0             97.40             14           13.64             14   \n",
       "1            182.86             14           25.60             14   \n",
       "2            903.96              9           81.36              9   \n",
       "3            548.58             14           76.80             14   \n",
       "4             22.86             14            3.20             14   \n",
       "\n",
       "   CGST_Tax_Value  Cess_Tax_Rate  Cess_Tax_Value  Total Tax Amount  Net Amount  \n",
       "0           13.64             12           11.69             38.97      136.37  \n",
       "1           25.60             12           21.94             73.14      256.00  \n",
       "2           81.36              0            0.00            162.72     1066.68  \n",
       "3           76.80             12           65.83            219.43      768.01  \n",
       "4            3.20             12            2.74              9.14       32.00  "
      ],
      "text/html": "<div>\n<style scoped>\n    .dataframe tbody tr th:only-of-type {\n        vertical-align: middle;\n    }\n\n    .dataframe tbody tr th {\n        vertical-align: top;\n    }\n\n    .dataframe thead th {\n        text-align: right;\n    }\n</style>\n<table border=\"1\" class=\"dataframe\">\n  <thead>\n    <tr style=\"text-align: right;\">\n      <th></th>\n      <th>index</th>\n      <th>Outlet Name</th>\n      <th>Outlet GSTIN Code</th>\n      <th>Invoice No</th>\n      <th>Invoice Date</th>\n      <th>Taxable Line Amt</th>\n      <th>SGST_Tax_Rate</th>\n      <th>SGST_Tax_Value</th>\n      <th>CGST_Tax_Rate</th>\n      <th>CGST_Tax_Value</th>\n      <th>Cess_Tax_Rate</th>\n      <th>Cess_Tax_Value</th>\n      <th>Total Tax Amount</th>\n      <th>Net Amount</th>\n    </tr>\n  </thead>\n  <tbody>\n    <tr>\n      <th>0</th>\n      <td>0</td>\n      <td>DEEP FOOD CORNER</td>\n      <td>21AVIPD7702M1ZP</td>\n      <td>580118000667</td>\n      <td>2018-10-04</td>\n      <td>97.40</td>\n      <td>14</td>\n      <td>13.64</td>\n      <td>14</td>\n      <td>13.64</td>\n      <td>12</td>\n      <td>11.69</td>\n      <td>38.97</td>\n      <td>136.37</td>\n    </tr>\n    <tr>\n      <th>1</th>\n      <td>1</td>\n      <td>DEEP FOOD CORNER</td>\n      <td>21AVIPD7702M1ZP</td>\n      <td>580118000667</td>\n      <td>2018-10-04</td>\n      <td>182.86</td>\n      <td>14</td>\n      <td>25.60</td>\n      <td>14</td>\n      <td>25.60</td>\n      <td>12</td>\n      <td>21.94</td>\n      <td>73.14</td>\n      <td>256.00</td>\n    </tr>\n    <tr>\n      <th>2</th>\n      <td>2</td>\n      <td>DEEP FOOD CORNER</td>\n      <td>21AVIPD7702M1ZP</td>\n      <td>580118000667</td>\n      <td>2018-10-04</td>\n      <td>903.96</td>\n      <td>9</td>\n      <td>81.36</td>\n      <td>9</td>\n      <td>81.36</td>\n      <td>0</td>\n      <td>0.00</td>\n      <td>162.72</td>\n      <td>1066.68</td>\n    </tr>\n    <tr>\n      <th>3</th>\n      <td>3</td>\n      <td>DEEP FOOD CORNER</td>\n      <td>21AVIPD7702M1ZP</td>\n      <td>580118000667</td>\n      <td>2018-10-04</td>\n      <td>548.58</td>\n      <td>14</td>\n      <td>76.80</td>\n      <td>14</td>\n      <td>76.80</td>\n      <td>12</td>\n      <td>65.83</td>\n      <td>219.43</td>\n      <td>768.01</td>\n    </tr>\n    <tr>\n      <th>4</th>\n      <td>4</td>\n      <td>DEEP FOOD CORNER</td>\n      <td>21AVIPD7702M1ZP</td>\n      <td>580118000667</td>\n      <td>2018-10-04</td>\n      <td>22.86</td>\n      <td>14</td>\n      <td>3.20</td>\n      <td>14</td>\n      <td>3.20</td>\n      <td>12</td>\n      <td>2.74</td>\n      <td>9.14</td>\n      <td>32.00</td>\n    </tr>\n  </tbody>\n</table>\n</div>"
     },
     "metadata": {},
     "execution_count": 27
    }
   ],
   "source": [
    "df.dropna(axis=0, inplace=True)\n",
    "df.reset_index(inplace=True)\n",
    "df.head()"
   ]
  },
  {
   "cell_type": "code",
   "execution_count": 28,
   "metadata": {},
   "outputs": [
    {
     "output_type": "execute_result",
     "data": {
      "text/plain": [
       "7"
      ]
     },
     "metadata": {},
     "execution_count": 28
    }
   ],
   "source": [
    "len(df['Outlet Name'].unique())"
   ]
  },
  {
   "cell_type": "code",
   "execution_count": 29,
   "metadata": {},
   "outputs": [
    {
     "output_type": "execute_result",
     "data": {
      "text/plain": [
       "['DEEP FOOD CORNER',\n",
       " 'UNION CLUB',\n",
       " 'ORISSA CRICKET ASSOCIATION CLUB',\n",
       " 'CUTTACK CLUB--',\n",
       " 'ROYAL TRADERS',\n",
       " 'SHREE SAI VANDAR',\n",
       " 'SWEETY']"
      ]
     },
     "metadata": {},
     "execution_count": 29
    }
   ],
   "source": [
    "outlet_names = list(df['Outlet Name'].unique())\n",
    "outlet_names"
   ]
  },
  {
   "cell_type": "code",
   "execution_count": 30,
   "metadata": {},
   "outputs": [
    {
     "output_type": "execute_result",
     "data": {
      "text/plain": [
       "Empty DataFrame\n",
       "Columns: [Outlet Name, Outlet GSTIN Code, Invoice No, Invoice Date, Taxable Line Amt, SGST_Tax_Rate, SGST_Tax_Value, CGST_Tax_Rate, CGST_Tax_Value, Cess_Tax_Rate, Total Tax Amount, Net Amount]\n",
       "Index: []"
      ],
      "text/html": "<div>\n<style scoped>\n    .dataframe tbody tr th:only-of-type {\n        vertical-align: middle;\n    }\n\n    .dataframe tbody tr th {\n        vertical-align: top;\n    }\n\n    .dataframe thead th {\n        text-align: right;\n    }\n</style>\n<table border=\"1\" class=\"dataframe\">\n  <thead>\n    <tr style=\"text-align: right;\">\n      <th></th>\n      <th>Outlet Name</th>\n      <th>Outlet GSTIN Code</th>\n      <th>Invoice No</th>\n      <th>Invoice Date</th>\n      <th>Taxable Line Amt</th>\n      <th>SGST_Tax_Rate</th>\n      <th>SGST_Tax_Value</th>\n      <th>CGST_Tax_Rate</th>\n      <th>CGST_Tax_Value</th>\n      <th>Cess_Tax_Rate</th>\n      <th>Total Tax Amount</th>\n      <th>Net Amount</th>\n    </tr>\n  </thead>\n  <tbody>\n  </tbody>\n</table>\n</div>"
     },
     "metadata": {},
     "execution_count": 30
    }
   ],
   "source": [
    "final = pd.DataFrame(columns=['Outlet Name', 'Outlet GSTIN Code', 'Invoice No', 'Invoice Date', 'Taxable Line Amt', 'SGST_Tax_Rate', 'SGST_Tax_Value', 'CGST_Tax_Rate', 'CGST_Tax_Value', 'Cess_Tax_Rate', 'Total Tax Amount', 'Net Amount'])\n",
    "final"
   ]
  },
  {
   "cell_type": "code",
   "execution_count": 31,
   "metadata": {},
   "outputs": [],
   "source": [
    "for i in range(len(outlet_names)):\n",
    "    invoice_nos = list(df[df['Outlet Name']==outlet_names[i]]['Invoice No'].unique())\n",
    "    outlet_data = df[df['Outlet Name']==outlet_names[i]]\n",
    "    for j in range(len(invoice_nos)):\n",
    "        inv_data = outlet_data[outlet_data['Invoice No']==invoice_nos[j]]\n",
    "        sgst_rates = list(inv_data['SGST_Tax_Rate'].unique())\n",
    "        for k in range(len(sgst_rates)):\n",
    "            sgst_data = inv_data[inv_data['SGST_Tax_Rate']==sgst_rates[k]]\n",
    "            d = {\n",
    "                'Outlet Name':outlet_names[i],\n",
    "                'Outlet GSTIN Code': sgst_data['Outlet GSTIN Code'].unique()[0],\n",
    "                'Invoice No':sgst_data['Invoice No'].unique()[0],\n",
    "                'Invoice Date':sgst_data['Invoice Date'].unique()[0],\n",
    "                'Taxable Line Amt':sgst_data['Taxable Line Amt'].sum(),\n",
    "                'SGST_Tax_Rate':sgst_data['SGST_Tax_Rate'].unique()[0],\n",
    "                'SGST_Tax_Value':sgst_data['SGST_Tax_Value'].sum(),\n",
    "                'CGST_Tax_Rate':sgst_data['CGST_Tax_Rate'].unique()[0],\n",
    "                'CGST_Tax_Value':sgst_data['CGST_Tax_Value'].sum(),\n",
    "                'Cess_Tax_Rate':sgst_data['Cess_Tax_Rate'].unique()[0],\n",
    "                'Cess_Tax_Value':sgst_data['Cess_Tax_Value'].sum(),\n",
    "                'Total Tax Amount':sgst_data['Total Tax Amount'].sum(),\n",
    "                'Net Amount':sgst_data['Net Amount'].sum()\n",
    "                }\n",
    "            final = final.append(d, ignore_index=True)"
   ]
  },
  {
   "cell_type": "code",
   "execution_count": 32,
   "metadata": {},
   "outputs": [
    {
     "output_type": "execute_result",
     "data": {
      "text/plain": [
       "Outlet Name                  object\n",
       "Outlet GSTIN Code            object\n",
       "Invoice No                   object\n",
       "Invoice Date         datetime64[ns]\n",
       "Taxable Line Amt            float64\n",
       "SGST_Tax_Rate                object\n",
       "SGST_Tax_Value              float64\n",
       "CGST_Tax_Rate                object\n",
       "CGST_Tax_Value              float64\n",
       "Cess_Tax_Rate                object\n",
       "Total Tax Amount            float64\n",
       "Net Amount                  float64\n",
       "Cess_Tax_Value              float64\n",
       "dtype: object"
      ]
     },
     "metadata": {},
     "execution_count": 32
    }
   ],
   "source": [
    "final.dtypes"
   ]
  },
  {
   "cell_type": "code",
   "execution_count": 34,
   "metadata": {},
   "outputs": [],
   "source": [
    "final.to_csv('out.csv')"
   ]
  },
  {
   "cell_type": "code",
   "execution_count": 5,
   "metadata": {},
   "outputs": [],
   "source": [
    "import pandas as pd"
   ]
  },
  {
   "cell_type": "code",
   "execution_count": 6,
   "metadata": {},
   "outputs": [
    {
     "output_type": "execute_result",
     "data": {
      "text/plain": [
       "Unnamed: 0             int64\n",
       "Outlet Name           object\n",
       "Outlet GSTIN Code     object\n",
       "Invoice No             int64\n",
       "Invoice Date          object\n",
       "Taxable Line Amt     float64\n",
       "SGST_Tax_Rate          int64\n",
       "SGST_Tax_Value       float64\n",
       "CGST_Tax_Rate          int64\n",
       "Cess_Tax_Rate          int64\n",
       "Total Tax Amount     float64\n",
       "Net Amount           float64\n",
       "CGST_Tax_Value       float64\n",
       "Cess_Tax_Value       float64\n",
       "dtype: object"
      ]
     },
     "metadata": {},
     "execution_count": 6
    }
   ],
   "source": [
    "df = pd.read_csv('out.csv')\n",
    "df.dtypes"
   ]
  },
  {
   "cell_type": "code",
   "execution_count": 1,
   "metadata": {},
   "outputs": [],
   "source": [
    "import pandas as pd"
   ]
  },
  {
   "cell_type": "code",
   "execution_count": 2,
   "metadata": {},
   "outputs": [
    {
     "output_type": "execute_result",
     "data": {
      "text/plain": [
       "    RecipientGSTIN      RecipientName  DocumentNumber DocumentDate  \\\n",
       "0  21AABF15676D1ZP  INCON ASSOCIATION  P01INV-1900104   2019-04-05   \n",
       "1  21AABF15676D1ZP  INCON ASSOCIATION  P01INV-1900104   2019-04-05   \n",
       "2  21AABF15676D1ZP  INCON ASSOCIATION  P01INV-1900104   2019-04-05   \n",
       "3  21AABF15676D1ZP  INCON ASSOCIATION  P01INV-1900104   2019-04-05   \n",
       "4  21AABF15676D1ZP  INCON ASSOCIATION  P01INV-1900104   2019-04-05   \n",
       "\n",
       "   DocumentValue  TaxableAmount  GSTRate  CESSRate   CGST   SGST  CESS  \\\n",
       "0          595.0         312.72       18         0  28.14  28.14  0.00   \n",
       "1          595.0          36.27       18         0   3.26   3.26  0.00   \n",
       "2          595.0          32.77       12         0   1.97   1.97  0.00   \n",
       "3          595.0          52.44       40        12   7.34   7.34  6.29   \n",
       "4          595.0          52.44       40        12   7.34   7.34  6.29   \n",
       "\n",
       "   NetLineAmount  \n",
       "0         369.01  \n",
       "1          42.80  \n",
       "2          36.71  \n",
       "3          73.42  \n",
       "4          73.42  "
      ],
      "text/html": "<div>\n<style scoped>\n    .dataframe tbody tr th:only-of-type {\n        vertical-align: middle;\n    }\n\n    .dataframe tbody tr th {\n        vertical-align: top;\n    }\n\n    .dataframe thead th {\n        text-align: right;\n    }\n</style>\n<table border=\"1\" class=\"dataframe\">\n  <thead>\n    <tr style=\"text-align: right;\">\n      <th></th>\n      <th>RecipientGSTIN</th>\n      <th>RecipientName</th>\n      <th>DocumentNumber</th>\n      <th>DocumentDate</th>\n      <th>DocumentValue</th>\n      <th>TaxableAmount</th>\n      <th>GSTRate</th>\n      <th>CESSRate</th>\n      <th>CGST</th>\n      <th>SGST</th>\n      <th>CESS</th>\n      <th>NetLineAmount</th>\n    </tr>\n  </thead>\n  <tbody>\n    <tr>\n      <th>0</th>\n      <td>21AABF15676D1ZP</td>\n      <td>INCON ASSOCIATION</td>\n      <td>P01INV-1900104</td>\n      <td>2019-04-05</td>\n      <td>595.0</td>\n      <td>312.72</td>\n      <td>18</td>\n      <td>0</td>\n      <td>28.14</td>\n      <td>28.14</td>\n      <td>0.00</td>\n      <td>369.01</td>\n    </tr>\n    <tr>\n      <th>1</th>\n      <td>21AABF15676D1ZP</td>\n      <td>INCON ASSOCIATION</td>\n      <td>P01INV-1900104</td>\n      <td>2019-04-05</td>\n      <td>595.0</td>\n      <td>36.27</td>\n      <td>18</td>\n      <td>0</td>\n      <td>3.26</td>\n      <td>3.26</td>\n      <td>0.00</td>\n      <td>42.80</td>\n    </tr>\n    <tr>\n      <th>2</th>\n      <td>21AABF15676D1ZP</td>\n      <td>INCON ASSOCIATION</td>\n      <td>P01INV-1900104</td>\n      <td>2019-04-05</td>\n      <td>595.0</td>\n      <td>32.77</td>\n      <td>12</td>\n      <td>0</td>\n      <td>1.97</td>\n      <td>1.97</td>\n      <td>0.00</td>\n      <td>36.71</td>\n    </tr>\n    <tr>\n      <th>3</th>\n      <td>21AABF15676D1ZP</td>\n      <td>INCON ASSOCIATION</td>\n      <td>P01INV-1900104</td>\n      <td>2019-04-05</td>\n      <td>595.0</td>\n      <td>52.44</td>\n      <td>40</td>\n      <td>12</td>\n      <td>7.34</td>\n      <td>7.34</td>\n      <td>6.29</td>\n      <td>73.42</td>\n    </tr>\n    <tr>\n      <th>4</th>\n      <td>21AABF15676D1ZP</td>\n      <td>INCON ASSOCIATION</td>\n      <td>P01INV-1900104</td>\n      <td>2019-04-05</td>\n      <td>595.0</td>\n      <td>52.44</td>\n      <td>40</td>\n      <td>12</td>\n      <td>7.34</td>\n      <td>7.34</td>\n      <td>6.29</td>\n      <td>73.42</td>\n    </tr>\n  </tbody>\n</table>\n</div>"
     },
     "metadata": {},
     "execution_count": 2
    }
   ],
   "source": [
    "df = pd.read_excel('1 B2B SALE 2019.xlsx')\n",
    "df.head()"
   ]
  },
  {
   "cell_type": "code",
   "execution_count": 7,
   "metadata": {},
   "outputs": [
    {
     "output_type": "execute_result",
     "data": {
      "text/plain": [
       "array(['INCON ASSOCIATION', 'SHREE SAI VANDAR', 'ROYAL TRADERS',\n",
       "       'UNION CLUB', 'DEEP FOOD CORNER', 'CUTTACK CLUB--', 'SWEETY',\n",
       "       'ORISSA CRICKET ASSOCIATION CLUB'], dtype=object)"
      ]
     },
     "metadata": {},
     "execution_count": 7
    }
   ],
   "source": [
    "outlet_names = df['RecipientName'].unique()\n",
    "outlet_names"
   ]
  },
  {
   "cell_type": "code",
   "execution_count": 16,
   "metadata": {},
   "outputs": [
    {
     "output_type": "execute_result",
     "data": {
      "text/plain": [
       "Empty DataFrame\n",
       "Columns: [RecipientGSTIN, RecipientName, DocumentNumber, DocumentDate, DocumentValue, TaxableAmount, GSTRate, CESSRate, CGST, SGST, CESS, NetLineAmount]\n",
       "Index: []"
      ],
      "text/html": "<div>\n<style scoped>\n    .dataframe tbody tr th:only-of-type {\n        vertical-align: middle;\n    }\n\n    .dataframe tbody tr th {\n        vertical-align: top;\n    }\n\n    .dataframe thead th {\n        text-align: right;\n    }\n</style>\n<table border=\"1\" class=\"dataframe\">\n  <thead>\n    <tr style=\"text-align: right;\">\n      <th></th>\n      <th>RecipientGSTIN</th>\n      <th>RecipientName</th>\n      <th>DocumentNumber</th>\n      <th>DocumentDate</th>\n      <th>DocumentValue</th>\n      <th>TaxableAmount</th>\n      <th>GSTRate</th>\n      <th>CESSRate</th>\n      <th>CGST</th>\n      <th>SGST</th>\n      <th>CESS</th>\n      <th>NetLineAmount</th>\n    </tr>\n  </thead>\n  <tbody>\n  </tbody>\n</table>\n</div>"
     },
     "metadata": {},
     "execution_count": 16
    }
   ],
   "source": [
    "final = pd.DataFrame(columns=['RecipientGSTIN', 'RecipientName', 'DocumentNumber', 'DocumentDate', 'DocumentValue', 'TaxableAmount', 'GSTRate', 'CESSRate', 'CGST', 'SGST', 'CESS', 'NetLineAmount'])\n",
    "final"
   ]
  },
  {
   "cell_type": "code",
   "execution_count": 17,
   "metadata": {
    "tags": []
   },
   "outputs": [],
   "source": [
    "\n",
    "for i in range(len(outlet_names)):\n",
    "    doc_nos = list(df[df['RecipientName']==outlet_names[i]]['DocumentNumber'].unique())\n",
    "    outlet_data = df[df['RecipientName']==outlet_names[i]]\n",
    "    for j in range(len(doc_nos)):\n",
    "        inv_data = outlet_data[outlet_data['DocumentNumber']==doc_nos[j]]\n",
    "        gst_rate = list(inv_data['GSTRate'].unique())\n",
    "        for k in range(len(gst_rate)):\n",
    "            gst_data = inv_data[inv_data['GSTRate']==gst_rate[k]]\n",
    "            d = {\n",
    "               'RecipientGSTIN': gst_data['RecipientGSTIN'].unique()[0],\n",
    "               'RecipientName': outlet_names[i],\n",
    "               'DocumentNumber': gst_data['DocumentNumber'].unique()[0],\n",
    "               'DocumentDate': gst_data['DocumentDate'].unique()[0],\n",
    "               'DocumentValue': gst_data['DocumentValue'].unique()[0],\n",
    "               'TaxableAmount': gst_data['TaxableAmount'].sum(),\n",
    "               'GSTRate' : gst_data['GSTRate'].unique()[0],\n",
    "               'CESSRate' : gst_data['CESSRate'].unique()[0],\n",
    "               'CGST' : gst_data['CGST'].sum(),\n",
    "               'SGST' : gst_data['SGST'].sum(),\n",
    "               'CESS' : gst_data['CESS'].sum(),\n",
    "               'NetLineAmount' : gst_data['NetLineAmount'].sum()\n",
    "            }\n",
    "            final = final.append(d, ignore_index=True)"
   ]
  },
  {
   "cell_type": "code",
   "execution_count": 20,
   "metadata": {},
   "outputs": [
    {
     "output_type": "execute_result",
     "data": {
      "text/plain": [
       "     RecipientGSTIN      RecipientName  DocumentNumber DocumentDate  \\\n",
       "0   21AABF15676D1ZP  INCON ASSOCIATION  P01INV-1900104   2019-04-05   \n",
       "1   21AABF15676D1ZP  INCON ASSOCIATION  P01INV-1900104   2019-04-05   \n",
       "2   21AABF15676D1ZP  INCON ASSOCIATION  P01INV-1900104   2019-04-05   \n",
       "3   21AABF15676D1ZP  INCON ASSOCIATION  P02INV-1900316   2019-04-12   \n",
       "4   21AABF15676D1ZP  INCON ASSOCIATION  P02INV-1901132   2019-04-26   \n",
       "5   21AABF15676D1ZP  INCON ASSOCIATION  P02INV-1901132   2019-04-26   \n",
       "6   21AWCPS4200L1ZT   SHREE SAI VANDAR  P01INV-1900191   2019-04-05   \n",
       "7   21AWCPS4200L1ZT   SHREE SAI VANDAR  P01INV-1900191   2019-04-05   \n",
       "8   21AWCPS4200L1ZT   SHREE SAI VANDAR  R01INV-1900039   2019-04-07   \n",
       "9   21AWCPS4200L1ZT   SHREE SAI VANDAR  R01INV-1900039   2019-04-07   \n",
       "10  21AWCPS4200L1ZT   SHREE SAI VANDAR  R01INV-1900119   2019-04-08   \n",
       "11  21AWCPS4200L1ZT   SHREE SAI VANDAR  P01INV-1900334   2019-04-09   \n",
       "12  21AWCPS4200L1ZT   SHREE SAI VANDAR  P01INV-1900334   2019-04-09   \n",
       "13  21AWCPS4200L1ZT   SHREE SAI VANDAR  P02INV-1900352   2019-04-12   \n",
       "14  21AWCPS4200L1ZT   SHREE SAI VANDAR  P02INV-1900482   2019-04-15   \n",
       "15  21AWCPS4200L1ZT   SHREE SAI VANDAR  P02INV-1900818   2019-04-19   \n",
       "16  21AWCPS4200L1ZT   SHREE SAI VANDAR  P02INV-1900818   2019-04-19   \n",
       "17  21AWCPS4200L1ZT   SHREE SAI VANDAR  P02INV-1900962   2019-04-22   \n",
       "18  21AWCPS4200L1ZT   SHREE SAI VANDAR  P02INV-1900962   2019-04-22   \n",
       "19  21AWCPS4200L1ZT   SHREE SAI VANDAR  P02INV-1900962   2019-04-22   \n",
       "\n",
       "    DocumentValue  TaxableAmount GSTRate CESSRate    CGST    SGST    CESS  \\\n",
       "0          595.00         348.99      18        0   31.40   31.40    0.00   \n",
       "1          595.00          32.77      12        0    1.97    1.97    0.00   \n",
       "2          595.00         104.88      40       12   14.68   14.68   12.58   \n",
       "3          839.00         599.28      40       12   83.90   83.90   71.92   \n",
       "4          580.00         229.30      40       12   32.10   32.10   27.52   \n",
       "5          580.00         219.48      18        0   19.75   19.75    0.00   \n",
       "6         2605.00         532.20      18        0   47.89   47.89    0.00   \n",
       "7         2605.00        1412.11      40       12  197.70  197.70  169.46   \n",
       "8         1342.20         507.80      18        0   45.70   45.70    0.00   \n",
       "9         1342.20         530.71      40       12   74.30   74.30   63.68   \n",
       "10        2999.93        2142.81      40       12  300.00  300.00  257.14   \n",
       "11        4133.00        2524.28      40       12  353.40  353.40  302.90   \n",
       "12        4133.00         507.80      18        0   45.70   45.70    0.00   \n",
       "13        1426.00        1018.56      40       12  142.60  142.60  122.22   \n",
       "14        1552.00        1108.56      40       12  155.20  155.20  133.02   \n",
       "15        1330.00         822.55      40       12  115.15  115.15   98.70   \n",
       "16        1330.00         159.48      12        0    9.57    9.57    0.00   \n",
       "17        1111.00         196.43      40       12   27.50   27.50   23.57   \n",
       "18        1111.00         269.64      12        0   16.18   16.18    0.00   \n",
       "19        1111.00         452.53      18        0   40.72   40.72    0.00   \n",
       "\n",
       "    NetLineAmount  \n",
       "0          411.81  \n",
       "1           36.71  \n",
       "2          146.84  \n",
       "3          838.99  \n",
       "4          321.01  \n",
       "5          258.99  \n",
       "6          628.00  \n",
       "7         1976.98  \n",
       "8          599.20  \n",
       "9          743.00  \n",
       "10        2999.93  \n",
       "11        3533.99  \n",
       "12         599.20  \n",
       "13        1425.98  \n",
       "14        1551.99  \n",
       "15        1151.56  \n",
       "16         178.62  \n",
       "17         275.00  \n",
       "18         302.00  \n",
       "19         533.99  "
      ],
      "text/html": "<div>\n<style scoped>\n    .dataframe tbody tr th:only-of-type {\n        vertical-align: middle;\n    }\n\n    .dataframe tbody tr th {\n        vertical-align: top;\n    }\n\n    .dataframe thead th {\n        text-align: right;\n    }\n</style>\n<table border=\"1\" class=\"dataframe\">\n  <thead>\n    <tr style=\"text-align: right;\">\n      <th></th>\n      <th>RecipientGSTIN</th>\n      <th>RecipientName</th>\n      <th>DocumentNumber</th>\n      <th>DocumentDate</th>\n      <th>DocumentValue</th>\n      <th>TaxableAmount</th>\n      <th>GSTRate</th>\n      <th>CESSRate</th>\n      <th>CGST</th>\n      <th>SGST</th>\n      <th>CESS</th>\n      <th>NetLineAmount</th>\n    </tr>\n  </thead>\n  <tbody>\n    <tr>\n      <th>0</th>\n      <td>21AABF15676D1ZP</td>\n      <td>INCON ASSOCIATION</td>\n      <td>P01INV-1900104</td>\n      <td>2019-04-05</td>\n      <td>595.00</td>\n      <td>348.99</td>\n      <td>18</td>\n      <td>0</td>\n      <td>31.40</td>\n      <td>31.40</td>\n      <td>0.00</td>\n      <td>411.81</td>\n    </tr>\n    <tr>\n      <th>1</th>\n      <td>21AABF15676D1ZP</td>\n      <td>INCON ASSOCIATION</td>\n      <td>P01INV-1900104</td>\n      <td>2019-04-05</td>\n      <td>595.00</td>\n      <td>32.77</td>\n      <td>12</td>\n      <td>0</td>\n      <td>1.97</td>\n      <td>1.97</td>\n      <td>0.00</td>\n      <td>36.71</td>\n    </tr>\n    <tr>\n      <th>2</th>\n      <td>21AABF15676D1ZP</td>\n      <td>INCON ASSOCIATION</td>\n      <td>P01INV-1900104</td>\n      <td>2019-04-05</td>\n      <td>595.00</td>\n      <td>104.88</td>\n      <td>40</td>\n      <td>12</td>\n      <td>14.68</td>\n      <td>14.68</td>\n      <td>12.58</td>\n      <td>146.84</td>\n    </tr>\n    <tr>\n      <th>3</th>\n      <td>21AABF15676D1ZP</td>\n      <td>INCON ASSOCIATION</td>\n      <td>P02INV-1900316</td>\n      <td>2019-04-12</td>\n      <td>839.00</td>\n      <td>599.28</td>\n      <td>40</td>\n      <td>12</td>\n      <td>83.90</td>\n      <td>83.90</td>\n      <td>71.92</td>\n      <td>838.99</td>\n    </tr>\n    <tr>\n      <th>4</th>\n      <td>21AABF15676D1ZP</td>\n      <td>INCON ASSOCIATION</td>\n      <td>P02INV-1901132</td>\n      <td>2019-04-26</td>\n      <td>580.00</td>\n      <td>229.30</td>\n      <td>40</td>\n      <td>12</td>\n      <td>32.10</td>\n      <td>32.10</td>\n      <td>27.52</td>\n      <td>321.01</td>\n    </tr>\n    <tr>\n      <th>5</th>\n      <td>21AABF15676D1ZP</td>\n      <td>INCON ASSOCIATION</td>\n      <td>P02INV-1901132</td>\n      <td>2019-04-26</td>\n      <td>580.00</td>\n      <td>219.48</td>\n      <td>18</td>\n      <td>0</td>\n      <td>19.75</td>\n      <td>19.75</td>\n      <td>0.00</td>\n      <td>258.99</td>\n    </tr>\n    <tr>\n      <th>6</th>\n      <td>21AWCPS4200L1ZT</td>\n      <td>SHREE SAI VANDAR</td>\n      <td>P01INV-1900191</td>\n      <td>2019-04-05</td>\n      <td>2605.00</td>\n      <td>532.20</td>\n      <td>18</td>\n      <td>0</td>\n      <td>47.89</td>\n      <td>47.89</td>\n      <td>0.00</td>\n      <td>628.00</td>\n    </tr>\n    <tr>\n      <th>7</th>\n      <td>21AWCPS4200L1ZT</td>\n      <td>SHREE SAI VANDAR</td>\n      <td>P01INV-1900191</td>\n      <td>2019-04-05</td>\n      <td>2605.00</td>\n      <td>1412.11</td>\n      <td>40</td>\n      <td>12</td>\n      <td>197.70</td>\n      <td>197.70</td>\n      <td>169.46</td>\n      <td>1976.98</td>\n    </tr>\n    <tr>\n      <th>8</th>\n      <td>21AWCPS4200L1ZT</td>\n      <td>SHREE SAI VANDAR</td>\n      <td>R01INV-1900039</td>\n      <td>2019-04-07</td>\n      <td>1342.20</td>\n      <td>507.80</td>\n      <td>18</td>\n      <td>0</td>\n      <td>45.70</td>\n      <td>45.70</td>\n      <td>0.00</td>\n      <td>599.20</td>\n    </tr>\n    <tr>\n      <th>9</th>\n      <td>21AWCPS4200L1ZT</td>\n      <td>SHREE SAI VANDAR</td>\n      <td>R01INV-1900039</td>\n      <td>2019-04-07</td>\n      <td>1342.20</td>\n      <td>530.71</td>\n      <td>40</td>\n      <td>12</td>\n      <td>74.30</td>\n      <td>74.30</td>\n      <td>63.68</td>\n      <td>743.00</td>\n    </tr>\n    <tr>\n      <th>10</th>\n      <td>21AWCPS4200L1ZT</td>\n      <td>SHREE SAI VANDAR</td>\n      <td>R01INV-1900119</td>\n      <td>2019-04-08</td>\n      <td>2999.93</td>\n      <td>2142.81</td>\n      <td>40</td>\n      <td>12</td>\n      <td>300.00</td>\n      <td>300.00</td>\n      <td>257.14</td>\n      <td>2999.93</td>\n    </tr>\n    <tr>\n      <th>11</th>\n      <td>21AWCPS4200L1ZT</td>\n      <td>SHREE SAI VANDAR</td>\n      <td>P01INV-1900334</td>\n      <td>2019-04-09</td>\n      <td>4133.00</td>\n      <td>2524.28</td>\n      <td>40</td>\n      <td>12</td>\n      <td>353.40</td>\n      <td>353.40</td>\n      <td>302.90</td>\n      <td>3533.99</td>\n    </tr>\n    <tr>\n      <th>12</th>\n      <td>21AWCPS4200L1ZT</td>\n      <td>SHREE SAI VANDAR</td>\n      <td>P01INV-1900334</td>\n      <td>2019-04-09</td>\n      <td>4133.00</td>\n      <td>507.80</td>\n      <td>18</td>\n      <td>0</td>\n      <td>45.70</td>\n      <td>45.70</td>\n      <td>0.00</td>\n      <td>599.20</td>\n    </tr>\n    <tr>\n      <th>13</th>\n      <td>21AWCPS4200L1ZT</td>\n      <td>SHREE SAI VANDAR</td>\n      <td>P02INV-1900352</td>\n      <td>2019-04-12</td>\n      <td>1426.00</td>\n      <td>1018.56</td>\n      <td>40</td>\n      <td>12</td>\n      <td>142.60</td>\n      <td>142.60</td>\n      <td>122.22</td>\n      <td>1425.98</td>\n    </tr>\n    <tr>\n      <th>14</th>\n      <td>21AWCPS4200L1ZT</td>\n      <td>SHREE SAI VANDAR</td>\n      <td>P02INV-1900482</td>\n      <td>2019-04-15</td>\n      <td>1552.00</td>\n      <td>1108.56</td>\n      <td>40</td>\n      <td>12</td>\n      <td>155.20</td>\n      <td>155.20</td>\n      <td>133.02</td>\n      <td>1551.99</td>\n    </tr>\n    <tr>\n      <th>15</th>\n      <td>21AWCPS4200L1ZT</td>\n      <td>SHREE SAI VANDAR</td>\n      <td>P02INV-1900818</td>\n      <td>2019-04-19</td>\n      <td>1330.00</td>\n      <td>822.55</td>\n      <td>40</td>\n      <td>12</td>\n      <td>115.15</td>\n      <td>115.15</td>\n      <td>98.70</td>\n      <td>1151.56</td>\n    </tr>\n    <tr>\n      <th>16</th>\n      <td>21AWCPS4200L1ZT</td>\n      <td>SHREE SAI VANDAR</td>\n      <td>P02INV-1900818</td>\n      <td>2019-04-19</td>\n      <td>1330.00</td>\n      <td>159.48</td>\n      <td>12</td>\n      <td>0</td>\n      <td>9.57</td>\n      <td>9.57</td>\n      <td>0.00</td>\n      <td>178.62</td>\n    </tr>\n    <tr>\n      <th>17</th>\n      <td>21AWCPS4200L1ZT</td>\n      <td>SHREE SAI VANDAR</td>\n      <td>P02INV-1900962</td>\n      <td>2019-04-22</td>\n      <td>1111.00</td>\n      <td>196.43</td>\n      <td>40</td>\n      <td>12</td>\n      <td>27.50</td>\n      <td>27.50</td>\n      <td>23.57</td>\n      <td>275.00</td>\n    </tr>\n    <tr>\n      <th>18</th>\n      <td>21AWCPS4200L1ZT</td>\n      <td>SHREE SAI VANDAR</td>\n      <td>P02INV-1900962</td>\n      <td>2019-04-22</td>\n      <td>1111.00</td>\n      <td>269.64</td>\n      <td>12</td>\n      <td>0</td>\n      <td>16.18</td>\n      <td>16.18</td>\n      <td>0.00</td>\n      <td>302.00</td>\n    </tr>\n    <tr>\n      <th>19</th>\n      <td>21AWCPS4200L1ZT</td>\n      <td>SHREE SAI VANDAR</td>\n      <td>P02INV-1900962</td>\n      <td>2019-04-22</td>\n      <td>1111.00</td>\n      <td>452.53</td>\n      <td>18</td>\n      <td>0</td>\n      <td>40.72</td>\n      <td>40.72</td>\n      <td>0.00</td>\n      <td>533.99</td>\n    </tr>\n  </tbody>\n</table>\n</div>"
     },
     "metadata": {},
     "execution_count": 20
    }
   ],
   "source": [
    "final.head(20)"
   ]
  },
  {
   "cell_type": "code",
   "execution_count": 22,
   "metadata": {},
   "outputs": [],
   "source": [
    "final.to_csv('out.csv')"
   ]
  }
 ]
}